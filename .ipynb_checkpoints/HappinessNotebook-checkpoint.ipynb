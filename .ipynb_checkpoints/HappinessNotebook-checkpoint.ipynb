{
 "cells": [
  {
   "cell_type": "markdown",
   "id": "disturbed-beginning",
   "metadata": {},
   "source": [
    "# Points that need to be cover in this notebook\n",
    "1. Compare the data with GDP of country \n",
    "2. Compare the data with Polution \n",
    "3. Compare the data with population\n",
    "4. Compare the data with religion\n",
    "5. Compare the data with Average Salary \n",
    "6. Compare the data with weather condition \n",
    "7. Compare the data with gov corruption\n",
    "8. Compare the data with life expetency \n",
    "9. Compare the data with region"
   ]
  },
  {
   "cell_type": "code",
   "execution_count": null,
   "id": "after-butler",
   "metadata": {},
   "outputs": [],
   "source": []
  }
 ],
 "metadata": {
  "kernelspec": {
   "display_name": "Python 3",
   "language": "python",
   "name": "python3"
  },
  "language_info": {
   "codemirror_mode": {
    "name": "ipython",
    "version": 3
   },
   "file_extension": ".py",
   "mimetype": "text/x-python",
   "name": "python",
   "nbconvert_exporter": "python",
   "pygments_lexer": "ipython3",
   "version": "3.9.2"
  }
 },
 "nbformat": 4,
 "nbformat_minor": 5
}
